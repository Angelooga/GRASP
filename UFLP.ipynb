{
 "cells": [
  {
   "cell_type": "code",
   "execution_count": 27,
   "id": "5ffd4664-4622-4cef-b199-bd5c16b4ccae",
   "metadata": {},
   "outputs": [],
   "source": [
    "import numpy as np"
   ]
  },
  {
   "cell_type": "markdown",
   "id": "c9d8ab62-5d92-43c6-b0ee-668b4a2b3228",
   "metadata": {},
   "source": [
    "### Lectura de los datos"
   ]
  },
  {
   "cell_type": "code",
   "execution_count": 39,
   "id": "f3e8199c-9edc-4cdf-9354-85d11b34704f",
   "metadata": {},
   "outputs": [],
   "source": [
    "with open(\"UFLP-1.txt\", \"r\") as f:\n",
    "    \n",
    "    n, m = map(int, f.readline().split())  \n",
    "\n",
    "    fixed_costs = []  \n",
    "    demand_costs = []  \n",
    "\n",
    "    for line in f:\n",
    "        data = line.split()\n",
    "        fixed_costs.append(int(data[1]))  # Almacenar como lista en lugar de diccionario\n",
    "        demand_costs.append(list(map(int, data[2:])))  # Convertir los costos de demanda en lista"
   ]
  },
  {
   "cell_type": "code",
   "execution_count": 115,
   "id": "a37da7a1-65ca-4200-955d-30b6f5147a4f",
   "metadata": {},
   "outputs": [],
   "source": [
    "def add_heuristic(n, m, fixed_costs, demand_costs):\n",
    "    \"\"\"\n",
    "    This function does something...\n",
    "    \"\"\"\n",
    "    J_star = set()\n",
    "    alloci = np.zeros(m)\n",
    "    \n",
    "    g =  [sum(demand) + fixed for demand, fixed in zip(demand_costs, fixed_costs)]\n",
    "    \n",
    "    j_star = np.argmin(g) + 1\n",
    "    \n",
    "    J_star.add(j_star)\n",
    "\n",
    "    alloci[:] = j_star\n",
    "\n",
    "    f = g[j_star]\n",
    "\n",
    "    print(j_star)"
   ]
  },
  {
   "cell_type": "code",
   "execution_count": 117,
   "id": "9f3db23e-d2ac-4f08-8d63-d45dcccda547",
   "metadata": {},
   "outputs": [
    {
     "name": "stdout",
     "output_type": "stream",
     "text": [
      "44\n"
     ]
    }
   ],
   "source": [
    "add_heuristic(n, m, fixed_costs, demand_costs)"
   ]
  },
  {
   "cell_type": "code",
   "execution_count": 108,
   "id": "1380470c-1aa6-4cb4-b439-8312bbeb081b",
   "metadata": {},
   "outputs": [
    {
     "data": {
      "text/plain": [
       "array([-1, -1, -1, -1, -1, -1, -1, -1, -1, -1])"
      ]
     },
     "execution_count": 108,
     "metadata": {},
     "output_type": "execute_result"
    }
   ],
   "source": [
    "np.full(10, -1)"
   ]
  }
 ],
 "metadata": {
  "kernelspec": {
   "display_name": "Python 3 (ipykernel)",
   "language": "python",
   "name": "python3"
  },
  "language_info": {
   "codemirror_mode": {
    "name": "ipython",
    "version": 3
   },
   "file_extension": ".py",
   "mimetype": "text/x-python",
   "name": "python",
   "nbconvert_exporter": "python",
   "pygments_lexer": "ipython3",
   "version": "3.12.7"
  }
 },
 "nbformat": 4,
 "nbformat_minor": 5
}
