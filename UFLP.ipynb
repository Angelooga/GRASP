{
 "cells": [
  {
   "cell_type": "code",
   "execution_count": 27,
   "id": "5ffd4664-4622-4cef-b199-bd5c16b4ccae",
   "metadata": {},
   "outputs": [],
   "source": [
    "import numpy as np"
   ]
  },
  {
   "cell_type": "markdown",
   "id": "c9d8ab62-5d92-43c6-b0ee-668b4a2b3228",
   "metadata": {},
   "source": [
    "### Lectura de los datos"
   ]
  },
  {
   "cell_type": "code",
   "execution_count": 39,
   "id": "f3e8199c-9edc-4cdf-9354-85d11b34704f",
   "metadata": {},
   "outputs": [],
   "source": [
    "with open(\"UFLP-1.txt\", \"r\") as f:\n",
    "    \n",
    "    n, m = map(int, f.readline().split())  \n",
    "\n",
    "    fixed_costs = []  \n",
    "    demand_costs = []  \n",
    "\n",
    "    for line in f:\n",
    "        data = line.split()\n",
    "        fixed_costs.append(int(data[1]))  # Almacenar como lista en lugar de diccionario\n",
    "        demand_costs.append(list(map(int, data[2:])))  # Convertir los costos de demanda en lista"
   ]
  },
  {
   "cell_type": "code",
   "execution_count": 219,
   "id": "a37da7a1-65ca-4200-955d-30b6f5147a4f",
   "metadata": {},
   "outputs": [],
   "source": [
    "def add_heuristic(n, m, fixed_costs, demand_costs):\n",
    "    \"\"\"\n",
    "    This function does something...\n",
    "    \"\"\"\n",
    "    J = set(range(0, n))\n",
    "    J_star = set()\n",
    "    alloci = np.zeros(m).astype(int)\n",
    "    \n",
    "    g =  [sum(demand) + fixed for demand, fixed in zip(demand_costs, fixed_costs)]\n",
    "    \n",
    "    j_star = np.argmin(g)\n",
    "    \n",
    "    J_star.add(j_star)\n",
    "\n",
    "    alloci[:] = j_star\n",
    "\n",
    "    f = g[j_star]\n",
    "\n",
    "    while True:\n",
    "        g = [sum(min(demand_costs[j][i] - demand_costs[alloci[i]][i], 0) for i in range(n)) + \\\n",
    "             fixed_costs[j] for j in (J - J_star)]\n",
    "\n",
    "        j_star = np.argmin(g)\n",
    "\n",
    "        if g[j_star] >= 0:\n",
    "            break\n",
    "        \n",
    "        if g[j_star] < 0:\n",
    "            J_star.add(j_star)\n",
    "\n",
    "            for i in range(m):\n",
    "                if demand_costs[j_star][i] < demand_costs[alloci[i]][i]:\n",
    "                    alloci[i] = j_star\n",
    "\n",
    "            f += g[j_star]\n",
    "\n",
    "    return alloci, J_star, f"
   ]
  },
  {
   "cell_type": "code",
   "execution_count": 221,
   "id": "9f3db23e-d2ac-4f08-8d63-d45dcccda547",
   "metadata": {},
   "outputs": [
    {
     "data": {
      "text/plain": [
       "(array([23, 10, 43, 23, 43, 43, 10, 10, 24, 24, 23, 10, 10, 10, 43, 23, 43,\n",
       "        24, 23, 43, 43, 43, 24, 43, 43, 43, 23, 43, 24, 23, 23, 24, 24, 23,\n",
       "        23, 43, 10, 24, 10, 10, 10, 24, 43, 24, 43, 10, 10, 43, 24, 10, 23,\n",
       "        10, 24, 10, 24, 24, 24, 43, 43, 23, 10, 23, 23, 10, 43, 10, 10, 10,\n",
       "        10, 23, 23, 24, 10, 23, 43, 10, 24, 23, 24, 43, 10, 10, 24, 24, 10,\n",
       "        10, 23, 23, 23, 10, 24, 24, 24, 23, 43, 43, 23, 43, 23, 43]),\n",
       " {10, 23, 24, 43},\n",
       " 38726)"
      ]
     },
     "execution_count": 221,
     "metadata": {},
     "output_type": "execute_result"
    }
   ],
   "source": [
    "add_heuristic(n, m, fixed_costs, demand_costs)"
   ]
  }
 ],
 "metadata": {
  "kernelspec": {
   "display_name": "Python 3 (ipykernel)",
   "language": "python",
   "name": "python3"
  },
  "language_info": {
   "codemirror_mode": {
    "name": "ipython",
    "version": 3
   },
   "file_extension": ".py",
   "mimetype": "text/x-python",
   "name": "python",
   "nbconvert_exporter": "python",
   "pygments_lexer": "ipython3",
   "version": "3.12.7"
  }
 },
 "nbformat": 4,
 "nbformat_minor": 5
}
